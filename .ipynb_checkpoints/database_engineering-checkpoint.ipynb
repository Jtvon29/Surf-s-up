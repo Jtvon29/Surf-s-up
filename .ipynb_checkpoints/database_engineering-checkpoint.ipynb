{
 "cells": [
  {
   "cell_type": "code",
   "execution_count": 1,
   "metadata": {
    "collapsed": true
   },
   "outputs": [],
   "source": [
    "# Import dependencies\n",
    "import sqlalchemy\n",
    "from sqlalchemy import create_engine, inspect, MetaData\n",
    "from sqlalchemy import Column, Integer, String, Float, Numeric\n",
    "from sqlalchemy.ext.declarative import declarative_base\n",
    "from sqlalchemy.orm import Session\n",
    "import pandas as pd\n",
    "import matplotlib\n",
    "from matplotlib import style\n",
    "style.use('seaborn')\n",
    "import matplotlib.pyplot as plt"
   ]
  },
  {
   "cell_type": "code",
   "execution_count": 2,
   "metadata": {},
   "outputs": [
    {
     "name": "stdout",
     "output_type": "stream",
     "text": [
      "rm: hawaii.sqlite: No such file or directory\r\n"
     ]
    }
   ],
   "source": [
    "!rm -r 'hawaii.sqlite'"
   ]
  },
  {
   "cell_type": "code",
   "execution_count": 3,
   "metadata": {
    "collapsed": true
   },
   "outputs": [],
   "source": [
    "Base = declarative_base()"
   ]
  },
  {
   "cell_type": "code",
   "execution_count": 4,
   "metadata": {
    "collapsed": true
   },
   "outputs": [],
   "source": [
    "# Establish database connection\n",
    "engine = create_engine('sqlite:///Resources/hawaii.sqlite')"
   ]
  },
  {
   "cell_type": "code",
   "execution_count": 5,
   "metadata": {
    "collapsed": true
   },
   "outputs": [],
   "source": [
    "class measurement_table(Base):\n",
    "    __tablename__= \"Measurement\"\n",
    "    id = Column(Integer, primary_key=True)\n",
    "    station = Column(String)\n",
    "    date = Column(String)\n",
    "    precipitation = Column(Numeric(20,2))\n",
    "    tobs = Column(Integer)\n",
    "    \n",
    "    def __repr__(self):\n",
    "        return f\"id={self.id}, name={self.name}\""
   ]
  },
  {
   "cell_type": "code",
   "execution_count": 6,
   "metadata": {
    "collapsed": true
   },
   "outputs": [],
   "source": [
    "class station_table(Base):\n",
    "    __tablename__= \"Stations\"\n",
    "    id = Column(Integer, primary_key=True)\n",
    "    station = Column(String)\n",
    "    name = Column(String)\n",
    "    latitude = Column(Numeric(20,5))\n",
    "    longitude = Column(Numeric(20,5))\n",
    "    elevation = Column(Numeric(20,1))\n",
    "    \n",
    "    def __repr__(self):\n",
    "        return f\"id={self.id}, name={self.name}\""
   ]
  },
  {
   "cell_type": "code",
   "execution_count": 7,
   "metadata": {},
   "outputs": [
    {
     "data": {
      "text/plain": [
       "immutabledict({'Measurement': Table('Measurement', MetaData(bind=None), Column('id', Integer(), table=<Measurement>, primary_key=True, nullable=False), Column('station', String(), table=<Measurement>), Column('date', String(), table=<Measurement>), Column('precipitation', Numeric(precision=20, scale=2), table=<Measurement>), Column('tobs', Integer(), table=<Measurement>), schema=None), 'Stations': Table('Stations', MetaData(bind=None), Column('id', Integer(), table=<Stations>, primary_key=True, nullable=False), Column('station', String(), table=<Stations>), Column('name', String(), table=<Stations>), Column('latitude', Numeric(precision=20, scale=5), table=<Stations>), Column('longitude', Numeric(precision=20, scale=5), table=<Stations>), Column('elevation', Numeric(precision=20, scale=1), table=<Stations>), schema=None)})"
      ]
     },
     "execution_count": 7,
     "metadata": {},
     "output_type": "execute_result"
    }
   ],
   "source": [
    "# Tables only exist in python right now\n",
    "Base.metadata.tables"
   ]
  },
  {
   "cell_type": "code",
   "execution_count": 8,
   "metadata": {
    "collapsed": true
   },
   "outputs": [],
   "source": [
    "# Create the tables in the database\n",
    "Base.metadata.create_all(engine)"
   ]
  },
  {
   "cell_type": "code",
   "execution_count": 10,
   "metadata": {},
   "outputs": [
    {
     "data": {
      "text/plain": [
       "['Measurement', 'Stations']"
      ]
     },
     "execution_count": 10,
     "metadata": {},
     "output_type": "execute_result"
    }
   ],
   "source": [
    "inspector = inspect(engine)\n",
    "inspector.get_table_names()"
   ]
  },
  {
   "cell_type": "code",
   "execution_count": 11,
   "metadata": {
    "collapsed": true
   },
   "outputs": [],
   "source": [
    "def populate_table(engine, table, csvfile):\n",
    "    conn = engine.connect()\n",
    "    df_insert = pd.read_csv(csvfile)\n",
    "    data = df_insert.to_dict(orient='records')\n",
    "    conn.execute(table.insert(),data)"
   ]
  },
  {
   "cell_type": "code",
   "execution_count": 16,
   "metadata": {},
   "outputs": [],
   "source": [
    "populate_table(engine, measurement_table.__table__, \"Resources/clean_measurements.csv\")"
   ]
  },
  {
   "cell_type": "code",
   "execution_count": 18,
   "metadata": {},
   "outputs": [],
   "source": [
    "populate_table(engine, station_table.__table__, \"Resources/clean_stations.csv\")"
   ]
  },
  {
   "cell_type": "code",
   "execution_count": null,
   "metadata": {
    "collapsed": true
   },
   "outputs": [],
   "source": []
  }
 ],
 "metadata": {
  "kernelspec": {
   "display_name": "Python 3",
   "language": "python",
   "name": "python3"
  }
 },
 "nbformat": 4,
 "nbformat_minor": 2
}

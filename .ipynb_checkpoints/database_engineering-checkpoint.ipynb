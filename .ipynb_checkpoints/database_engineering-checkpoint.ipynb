{
 "cells": [
  {
   "cell_type": "code",
   "execution_count": 1,
   "metadata": {},
   "outputs": [],
   "source": [
    "# Import dependencies\n",
    "import sqlalchemy\n",
    "from sqlalchemy import create_engine, inspect, MetaData\n",
    "from sqlalchemy import Column, Integer, String, Float, Numeric\n",
    "from sqlalchemy.ext.declarative import declarative_base\n",
    "from sqlalchemy.orm import Session\n",
    "import pandas as pd\n",
    "import matplotlib\n",
    "from matplotlib import style\n",
    "style.use('seaborn')\n",
    "import matplotlib.pyplot as plt"
   ]
  },
  {
   "cell_type": "code",
   "execution_count": 2,
   "metadata": {
    "collapsed": true
   },
   "outputs": [],
   "source": [
    "Base = declarative_base()"
   ]
  },
  {
   "cell_type": "code",
   "execution_count": 3,
   "metadata": {
    "collapsed": true
   },
   "outputs": [],
   "source": [
    "# Establish database connection\n",
    "engine = create_engine('sqlite:///Resources/hawaii.sqlite')\n",
    "conn = engine.connect()"
   ]
  },
  {
   "cell_type": "code",
   "execution_count": 4,
   "metadata": {},
   "outputs": [],
   "source": [
    "class measurement_table(Base):\n",
    "    __tablename__= \"Measurement\"\n",
    "    id = Column(Integer, primary_key=True)\n",
    "    station = Column(String)\n",
    "    date = Column(String)\n",
    "    precipitation = Column(Numeric(20,2))\n",
    "    tobs = Column(Integer)\n",
    "    \n",
    "    def __repr__(self):\n",
    "        return f\"id={self.id}, name={self.name}\""
   ]
  },
  {
   "cell_type": "code",
   "execution_count": 5,
   "metadata": {},
   "outputs": [],
   "source": [
    "class station_table(Base):\n",
    "    __tablename__= \"Stations\"\n",
    "    id = Column(Integer, primary_key=True)\n",
    "    station = Column(String)\n",
    "    name = Column(String)\n",
    "    latitude = Column(Numeric(20,5))\n",
    "    longitude = Column(Numeric(20,5))\n",
    "    elevation = Column(Numeric(20,1))\n",
    "    \n",
    "    def __repr__(self):\n",
    "        return f\"id={self.id}, name={self.name}\""
   ]
  },
  {
   "cell_type": "code",
   "execution_count": 6,
   "metadata": {},
   "outputs": [
    {
     "data": {
      "text/plain": [
       "immutabledict({'Measurement': Table('Measurement', MetaData(bind=None), Column('id', Integer(), table=<Measurement>, primary_key=True, nullable=False), Column('station', String(), table=<Measurement>), Column('date', String(), table=<Measurement>), Column('precipitation', Numeric(precision=20, scale=2), table=<Measurement>), Column('tobs', Integer(), table=<Measurement>), schema=None), 'Stations': Table('Stations', MetaData(bind=None), Column('id', Integer(), table=<Stations>, primary_key=True, nullable=False), Column('station', String(), table=<Stations>), Column('name', String(), table=<Stations>), Column('latitude', Numeric(precision=20, scale=5), table=<Stations>), Column('longitude', Numeric(precision=20, scale=5), table=<Stations>), Column('elevation', Numeric(precision=20, scale=1), table=<Stations>), schema=None)})"
      ]
     },
     "execution_count": 6,
     "metadata": {},
     "output_type": "execute_result"
    }
   ],
   "source": [
    "# Tables only exist in python right now\n",
    "Base.metadata.tables"
   ]
  },
  {
   "cell_type": "code",
   "execution_count": 7,
   "metadata": {},
   "outputs": [],
   "source": [
    "# Create the tables in the database\n",
    "Base.metadata.create_all(engine)"
   ]
  },
  {
   "cell_type": "code",
   "execution_count": null,
   "metadata": {
    "collapsed": true
   },
   "outputs": [],
   "source": []
  }
 ],
 "metadata": {
  "kernelspec": {
   "display_name": "Python 3",
   "language": "python",
   "name": "python3"
  },
  "language_info": {
   "codemirror_mode": {
    "name": "ipython",
    "version": 3
   },
   "file_extension": ".py",
   "mimetype": "text/x-python",
   "name": "python",
   "nbconvert_exporter": "python",
   "pygments_lexer": "ipython3",
   "version": "3.6.3"
  }
 },
 "nbformat": 4,
 "nbformat_minor": 2
}
